{
 "cells": [
  {
   "cell_type": "code",
   "execution_count": 1,
   "id": "02be888e",
   "metadata": {
    "_cell_guid": "b1076dfc-b9ad-4769-8c92-a6c4dae69d19",
    "_uuid": "8f2839f25d086af736a60e9eeb907d3b93b6e0e5",
    "execution": {
     "iopub.execute_input": "2023-10-23T17:10:09.024582Z",
     "iopub.status.busy": "2023-10-23T17:10:09.024112Z",
     "iopub.status.idle": "2023-10-23T17:10:12.775259Z",
     "shell.execute_reply": "2023-10-23T17:10:12.773896Z"
    },
    "papermill": {
     "duration": 3.768316,
     "end_time": "2023-10-23T17:10:12.778374",
     "exception": false,
     "start_time": "2023-10-23T17:10:09.010058",
     "status": "completed"
    },
    "tags": []
   },
   "outputs": [],
   "source": [
    "import numpy as np\n",
    "import pandas as pd\n",
    "import seaborn as sns\n",
    "import matplotlib.pyplot as plt\n",
    "from sklearn.model_selection import train_test_split\n",
    "from sklearn.preprocessing import StandardScaler\n",
    "from sklearn.metrics import confusion_matrix, accuracy_score, precision_score, recall_score, f1_score, r2_score, mean_squared_error\n",
    "from sklearn.linear_model import LinearRegression\n",
    "from sklearn.ensemble import RandomForestRegressor\n",
    "from sklearn.pipeline import make_pipeline\n",
    "from sklearn.impute import SimpleImputer\n",
    "from prettytable import PrettyTable\n",
    "\n",
    "%matplotlib inline\n",
    "\n",
    "import warnings\n",
    "warnings.filterwarnings(\"ignore\")"
   ]
  },
  {
   "cell_type": "code",
   "execution_count": 2,
   "id": "d47e760a",
   "metadata": {
    "execution": {
     "iopub.execute_input": "2023-10-23T17:10:12.803802Z",
     "iopub.status.busy": "2023-10-23T17:10:12.802674Z",
     "iopub.status.idle": "2023-10-23T17:10:12.862557Z",
     "shell.execute_reply": "2023-10-23T17:10:12.861475Z"
    },
    "papermill": {
     "duration": 0.075703,
     "end_time": "2023-10-23T17:10:12.865595",
     "exception": false,
     "start_time": "2023-10-23T17:10:12.789892",
     "status": "completed"
    },
    "tags": []
   },
   "outputs": [],
   "source": [
    "df = pd.read_csv('/kaggle/input/house-prices-advanced-regression-techniques/train.csv')"
   ]
  },
  {
   "cell_type": "code",
   "execution_count": 3,
   "id": "b926fde9",
   "metadata": {
    "execution": {
     "iopub.execute_input": "2023-10-23T17:10:12.891709Z",
     "iopub.status.busy": "2023-10-23T17:10:12.891286Z",
     "iopub.status.idle": "2023-10-23T17:10:12.896773Z",
     "shell.execute_reply": "2023-10-23T17:10:12.895223Z"
    },
    "papermill": {
     "duration": 0.022146,
     "end_time": "2023-10-23T17:10:12.899847",
     "exception": false,
     "start_time": "2023-10-23T17:10:12.877701",
     "status": "completed"
    },
    "tags": []
   },
   "outputs": [],
   "source": [
    "#df = pd.concat([df_train, df_test])"
   ]
  },
  {
   "cell_type": "code",
   "execution_count": 4,
   "id": "0e208f13",
   "metadata": {
    "execution": {
     "iopub.execute_input": "2023-10-23T17:10:12.925506Z",
     "iopub.status.busy": "2023-10-23T17:10:12.924739Z",
     "iopub.status.idle": "2023-10-23T17:10:12.932218Z",
     "shell.execute_reply": "2023-10-23T17:10:12.931165Z"
    },
    "papermill": {
     "duration": 0.022914,
     "end_time": "2023-10-23T17:10:12.934700",
     "exception": false,
     "start_time": "2023-10-23T17:10:12.911786",
     "status": "completed"
    },
    "tags": []
   },
   "outputs": [
    {
     "data": {
      "text/plain": [
       "(1460, 81)"
      ]
     },
     "execution_count": 4,
     "metadata": {},
     "output_type": "execute_result"
    }
   ],
   "source": [
    "df.shape"
   ]
  },
  {
   "cell_type": "code",
   "execution_count": 5,
   "id": "a6489be3",
   "metadata": {
    "execution": {
     "iopub.execute_input": "2023-10-23T17:10:12.962575Z",
     "iopub.status.busy": "2023-10-23T17:10:12.961739Z",
     "iopub.status.idle": "2023-10-23T17:10:13.010671Z",
     "shell.execute_reply": "2023-10-23T17:10:13.009276Z"
    },
    "papermill": {
     "duration": 0.067821,
     "end_time": "2023-10-23T17:10:13.014277",
     "exception": false,
     "start_time": "2023-10-23T17:10:12.946456",
     "status": "completed"
    },
    "tags": []
   },
   "outputs": [
    {
     "data": {
      "text/html": [
       "<div>\n",
       "<style scoped>\n",
       "    .dataframe tbody tr th:only-of-type {\n",
       "        vertical-align: middle;\n",
       "    }\n",
       "\n",
       "    .dataframe tbody tr th {\n",
       "        vertical-align: top;\n",
       "    }\n",
       "\n",
       "    .dataframe thead th {\n",
       "        text-align: right;\n",
       "    }\n",
       "</style>\n",
       "<table border=\"1\" class=\"dataframe\">\n",
       "  <thead>\n",
       "    <tr style=\"text-align: right;\">\n",
       "      <th></th>\n",
       "      <th>Id</th>\n",
       "      <th>MSSubClass</th>\n",
       "      <th>MSZoning</th>\n",
       "      <th>LotFrontage</th>\n",
       "      <th>LotArea</th>\n",
       "      <th>Street</th>\n",
       "      <th>Alley</th>\n",
       "      <th>LotShape</th>\n",
       "      <th>LandContour</th>\n",
       "      <th>Utilities</th>\n",
       "      <th>...</th>\n",
       "      <th>PoolArea</th>\n",
       "      <th>PoolQC</th>\n",
       "      <th>Fence</th>\n",
       "      <th>MiscFeature</th>\n",
       "      <th>MiscVal</th>\n",
       "      <th>MoSold</th>\n",
       "      <th>YrSold</th>\n",
       "      <th>SaleType</th>\n",
       "      <th>SaleCondition</th>\n",
       "      <th>SalePrice</th>\n",
       "    </tr>\n",
       "  </thead>\n",
       "  <tbody>\n",
       "    <tr>\n",
       "      <th>0</th>\n",
       "      <td>1</td>\n",
       "      <td>60</td>\n",
       "      <td>RL</td>\n",
       "      <td>65.0</td>\n",
       "      <td>8450</td>\n",
       "      <td>Pave</td>\n",
       "      <td>NaN</td>\n",
       "      <td>Reg</td>\n",
       "      <td>Lvl</td>\n",
       "      <td>AllPub</td>\n",
       "      <td>...</td>\n",
       "      <td>0</td>\n",
       "      <td>NaN</td>\n",
       "      <td>NaN</td>\n",
       "      <td>NaN</td>\n",
       "      <td>0</td>\n",
       "      <td>2</td>\n",
       "      <td>2008</td>\n",
       "      <td>WD</td>\n",
       "      <td>Normal</td>\n",
       "      <td>208500</td>\n",
       "    </tr>\n",
       "    <tr>\n",
       "      <th>1</th>\n",
       "      <td>2</td>\n",
       "      <td>20</td>\n",
       "      <td>RL</td>\n",
       "      <td>80.0</td>\n",
       "      <td>9600</td>\n",
       "      <td>Pave</td>\n",
       "      <td>NaN</td>\n",
       "      <td>Reg</td>\n",
       "      <td>Lvl</td>\n",
       "      <td>AllPub</td>\n",
       "      <td>...</td>\n",
       "      <td>0</td>\n",
       "      <td>NaN</td>\n",
       "      <td>NaN</td>\n",
       "      <td>NaN</td>\n",
       "      <td>0</td>\n",
       "      <td>5</td>\n",
       "      <td>2007</td>\n",
       "      <td>WD</td>\n",
       "      <td>Normal</td>\n",
       "      <td>181500</td>\n",
       "    </tr>\n",
       "    <tr>\n",
       "      <th>2</th>\n",
       "      <td>3</td>\n",
       "      <td>60</td>\n",
       "      <td>RL</td>\n",
       "      <td>68.0</td>\n",
       "      <td>11250</td>\n",
       "      <td>Pave</td>\n",
       "      <td>NaN</td>\n",
       "      <td>IR1</td>\n",
       "      <td>Lvl</td>\n",
       "      <td>AllPub</td>\n",
       "      <td>...</td>\n",
       "      <td>0</td>\n",
       "      <td>NaN</td>\n",
       "      <td>NaN</td>\n",
       "      <td>NaN</td>\n",
       "      <td>0</td>\n",
       "      <td>9</td>\n",
       "      <td>2008</td>\n",
       "      <td>WD</td>\n",
       "      <td>Normal</td>\n",
       "      <td>223500</td>\n",
       "    </tr>\n",
       "    <tr>\n",
       "      <th>3</th>\n",
       "      <td>4</td>\n",
       "      <td>70</td>\n",
       "      <td>RL</td>\n",
       "      <td>60.0</td>\n",
       "      <td>9550</td>\n",
       "      <td>Pave</td>\n",
       "      <td>NaN</td>\n",
       "      <td>IR1</td>\n",
       "      <td>Lvl</td>\n",
       "      <td>AllPub</td>\n",
       "      <td>...</td>\n",
       "      <td>0</td>\n",
       "      <td>NaN</td>\n",
       "      <td>NaN</td>\n",
       "      <td>NaN</td>\n",
       "      <td>0</td>\n",
       "      <td>2</td>\n",
       "      <td>2006</td>\n",
       "      <td>WD</td>\n",
       "      <td>Abnorml</td>\n",
       "      <td>140000</td>\n",
       "    </tr>\n",
       "    <tr>\n",
       "      <th>4</th>\n",
       "      <td>5</td>\n",
       "      <td>60</td>\n",
       "      <td>RL</td>\n",
       "      <td>84.0</td>\n",
       "      <td>14260</td>\n",
       "      <td>Pave</td>\n",
       "      <td>NaN</td>\n",
       "      <td>IR1</td>\n",
       "      <td>Lvl</td>\n",
       "      <td>AllPub</td>\n",
       "      <td>...</td>\n",
       "      <td>0</td>\n",
       "      <td>NaN</td>\n",
       "      <td>NaN</td>\n",
       "      <td>NaN</td>\n",
       "      <td>0</td>\n",
       "      <td>12</td>\n",
       "      <td>2008</td>\n",
       "      <td>WD</td>\n",
       "      <td>Normal</td>\n",
       "      <td>250000</td>\n",
       "    </tr>\n",
       "  </tbody>\n",
       "</table>\n",
       "<p>5 rows × 81 columns</p>\n",
       "</div>"
      ],
      "text/plain": [
       "   Id  MSSubClass MSZoning  LotFrontage  LotArea Street Alley LotShape  \\\n",
       "0   1          60       RL         65.0     8450   Pave   NaN      Reg   \n",
       "1   2          20       RL         80.0     9600   Pave   NaN      Reg   \n",
       "2   3          60       RL         68.0    11250   Pave   NaN      IR1   \n",
       "3   4          70       RL         60.0     9550   Pave   NaN      IR1   \n",
       "4   5          60       RL         84.0    14260   Pave   NaN      IR1   \n",
       "\n",
       "  LandContour Utilities  ... PoolArea PoolQC Fence MiscFeature MiscVal MoSold  \\\n",
       "0         Lvl    AllPub  ...        0    NaN   NaN         NaN       0      2   \n",
       "1         Lvl    AllPub  ...        0    NaN   NaN         NaN       0      5   \n",
       "2         Lvl    AllPub  ...        0    NaN   NaN         NaN       0      9   \n",
       "3         Lvl    AllPub  ...        0    NaN   NaN         NaN       0      2   \n",
       "4         Lvl    AllPub  ...        0    NaN   NaN         NaN       0     12   \n",
       "\n",
       "  YrSold  SaleType  SaleCondition  SalePrice  \n",
       "0   2008        WD         Normal     208500  \n",
       "1   2007        WD         Normal     181500  \n",
       "2   2008        WD         Normal     223500  \n",
       "3   2006        WD        Abnorml     140000  \n",
       "4   2008        WD         Normal     250000  \n",
       "\n",
       "[5 rows x 81 columns]"
      ]
     },
     "execution_count": 5,
     "metadata": {},
     "output_type": "execute_result"
    }
   ],
   "source": [
    "df.head()"
   ]
  },
  {
   "cell_type": "code",
   "execution_count": 6,
   "id": "3aa6d0dd",
   "metadata": {
    "execution": {
     "iopub.execute_input": "2023-10-23T17:10:13.045117Z",
     "iopub.status.busy": "2023-10-23T17:10:13.044291Z",
     "iopub.status.idle": "2023-10-23T17:10:13.066400Z",
     "shell.execute_reply": "2023-10-23T17:10:13.064979Z"
    },
    "papermill": {
     "duration": 0.039727,
     "end_time": "2023-10-23T17:10:13.069306",
     "exception": false,
     "start_time": "2023-10-23T17:10:13.029579",
     "status": "completed"
    },
    "tags": []
   },
   "outputs": [
    {
     "data": {
      "text/plain": [
       "{'PoolQC': 1453,\n",
       " 'MiscFeature': 1406,\n",
       " 'Alley': 1369,\n",
       " 'Fence': 1179,\n",
       " 'MasVnrType': 872,\n",
       " 'FireplaceQu': 690,\n",
       " 'LotFrontage': 259,\n",
       " 'GarageYrBlt': 81,\n",
       " 'GarageCond': 81,\n",
       " 'GarageType': 81,\n",
       " 'GarageFinish': 81,\n",
       " 'GarageQual': 81,\n",
       " 'BsmtFinType2': 38,\n",
       " 'BsmtExposure': 38,\n",
       " 'BsmtQual': 37,\n",
       " 'BsmtCond': 37,\n",
       " 'BsmtFinType1': 37,\n",
       " 'MasVnrArea': 8,\n",
       " 'Electrical': 1,\n",
       " 'Id': 0,\n",
       " 'Functional': 0,\n",
       " 'Fireplaces': 0,\n",
       " 'KitchenQual': 0,\n",
       " 'KitchenAbvGr': 0,\n",
       " 'BedroomAbvGr': 0,\n",
       " 'HalfBath': 0,\n",
       " 'FullBath': 0,\n",
       " 'BsmtHalfBath': 0,\n",
       " 'TotRmsAbvGrd': 0,\n",
       " 'GarageCars': 0,\n",
       " 'GrLivArea': 0,\n",
       " 'GarageArea': 0,\n",
       " 'PavedDrive': 0,\n",
       " 'WoodDeckSF': 0,\n",
       " 'OpenPorchSF': 0,\n",
       " 'EnclosedPorch': 0,\n",
       " '3SsnPorch': 0,\n",
       " 'ScreenPorch': 0,\n",
       " 'PoolArea': 0,\n",
       " 'MiscVal': 0,\n",
       " 'MoSold': 0,\n",
       " 'YrSold': 0,\n",
       " 'SaleType': 0,\n",
       " 'SaleCondition': 0,\n",
       " 'BsmtFullBath': 0,\n",
       " 'HeatingQC': 0,\n",
       " 'LowQualFinSF': 0,\n",
       " 'LandSlope': 0,\n",
       " 'OverallQual': 0,\n",
       " 'HouseStyle': 0,\n",
       " 'BldgType': 0,\n",
       " 'Condition2': 0,\n",
       " 'Condition1': 0,\n",
       " 'Neighborhood': 0,\n",
       " 'LotConfig': 0,\n",
       " 'YearBuilt': 0,\n",
       " 'Utilities': 0,\n",
       " 'LandContour': 0,\n",
       " 'LotShape': 0,\n",
       " 'Street': 0,\n",
       " 'LotArea': 0,\n",
       " 'MSZoning': 0,\n",
       " 'OverallCond': 0,\n",
       " 'YearRemodAdd': 0,\n",
       " '2ndFlrSF': 0,\n",
       " 'BsmtFinSF2': 0,\n",
       " '1stFlrSF': 0,\n",
       " 'CentralAir': 0,\n",
       " 'MSSubClass': 0,\n",
       " 'Heating': 0,\n",
       " 'TotalBsmtSF': 0,\n",
       " 'BsmtUnfSF': 0,\n",
       " 'BsmtFinSF1': 0,\n",
       " 'RoofStyle': 0,\n",
       " 'Foundation': 0,\n",
       " 'ExterCond': 0,\n",
       " 'ExterQual': 0,\n",
       " 'Exterior2nd': 0,\n",
       " 'Exterior1st': 0,\n",
       " 'RoofMatl': 0,\n",
       " 'SalePrice': 0}"
      ]
     },
     "execution_count": 6,
     "metadata": {},
     "output_type": "execute_result"
    }
   ],
   "source": [
    "dict(df.isnull().sum().sort_values(ascending=False))"
   ]
  },
  {
   "cell_type": "code",
   "execution_count": null,
   "id": "b252acf2",
   "metadata": {
    "papermill": {
     "duration": 0.012094,
     "end_time": "2023-10-23T17:10:13.094623",
     "exception": false,
     "start_time": "2023-10-23T17:10:13.082529",
     "status": "completed"
    },
    "tags": []
   },
   "outputs": [],
   "source": []
  },
  {
   "cell_type": "code",
   "execution_count": 7,
   "id": "2f96b039",
   "metadata": {
    "execution": {
     "iopub.execute_input": "2023-10-23T17:10:13.123525Z",
     "iopub.status.busy": "2023-10-23T17:10:13.123046Z",
     "iopub.status.idle": "2023-10-23T17:10:13.133640Z",
     "shell.execute_reply": "2023-10-23T17:10:13.132561Z"
    },
    "papermill": {
     "duration": 0.02797,
     "end_time": "2023-10-23T17:10:13.136114",
     "exception": false,
     "start_time": "2023-10-23T17:10:13.108144",
     "status": "completed"
    },
    "tags": []
   },
   "outputs": [],
   "source": [
    "df.drop(['PoolQC','MiscFeature','Alley','Fence','MasVnrType', 'FireplaceQu', 'LotFrontage', 'GarageYrBlt', 'GarageFinish','MasVnrArea','GarageQual','GarageCond','GarageType'], axis=1, inplace=True)"
   ]
  },
  {
   "cell_type": "code",
   "execution_count": 8,
   "id": "df08282c",
   "metadata": {
    "execution": {
     "iopub.execute_input": "2023-10-23T17:10:13.163651Z",
     "iopub.status.busy": "2023-10-23T17:10:13.162340Z",
     "iopub.status.idle": "2023-10-23T17:10:13.177741Z",
     "shell.execute_reply": "2023-10-23T17:10:13.176552Z"
    },
    "papermill": {
     "duration": 0.032305,
     "end_time": "2023-10-23T17:10:13.180503",
     "exception": false,
     "start_time": "2023-10-23T17:10:13.148198",
     "status": "completed"
    },
    "tags": []
   },
   "outputs": [],
   "source": [
    "mask = df.isnull().mean() > 0.8\n",
    "df.drop(df.columns[mask], axis=1, inplace=True)"
   ]
  },
  {
   "cell_type": "code",
   "execution_count": 9,
   "id": "9016221f",
   "metadata": {
    "execution": {
     "iopub.execute_input": "2023-10-23T17:10:13.209540Z",
     "iopub.status.busy": "2023-10-23T17:10:13.208499Z",
     "iopub.status.idle": "2023-10-23T17:10:13.216540Z",
     "shell.execute_reply": "2023-10-23T17:10:13.215292Z"
    },
    "papermill": {
     "duration": 0.024827,
     "end_time": "2023-10-23T17:10:13.219338",
     "exception": false,
     "start_time": "2023-10-23T17:10:13.194511",
     "status": "completed"
    },
    "tags": []
   },
   "outputs": [
    {
     "data": {
      "text/plain": [
       "(1460, 68)"
      ]
     },
     "execution_count": 9,
     "metadata": {},
     "output_type": "execute_result"
    }
   ],
   "source": [
    "df.shape"
   ]
  },
  {
   "cell_type": "code",
   "execution_count": 10,
   "id": "96e9f0ce",
   "metadata": {
    "execution": {
     "iopub.execute_input": "2023-10-23T17:10:13.246653Z",
     "iopub.status.busy": "2023-10-23T17:10:13.246193Z",
     "iopub.status.idle": "2023-10-23T17:10:13.358833Z",
     "shell.execute_reply": "2023-10-23T17:10:13.357607Z"
    },
    "papermill": {
     "duration": 0.129568,
     "end_time": "2023-10-23T17:10:13.361502",
     "exception": false,
     "start_time": "2023-10-23T17:10:13.231934",
     "status": "completed"
    },
    "tags": []
   },
   "outputs": [
    {
     "data": {
      "text/html": [
       "<div>\n",
       "<style scoped>\n",
       "    .dataframe tbody tr th:only-of-type {\n",
       "        vertical-align: middle;\n",
       "    }\n",
       "\n",
       "    .dataframe tbody tr th {\n",
       "        vertical-align: top;\n",
       "    }\n",
       "\n",
       "    .dataframe thead th {\n",
       "        text-align: right;\n",
       "    }\n",
       "</style>\n",
       "<table border=\"1\" class=\"dataframe\">\n",
       "  <thead>\n",
       "    <tr style=\"text-align: right;\">\n",
       "      <th></th>\n",
       "      <th>Id</th>\n",
       "      <th>MSSubClass</th>\n",
       "      <th>LotArea</th>\n",
       "      <th>OverallQual</th>\n",
       "      <th>OverallCond</th>\n",
       "      <th>YearBuilt</th>\n",
       "      <th>YearRemodAdd</th>\n",
       "      <th>BsmtFinSF1</th>\n",
       "      <th>BsmtFinSF2</th>\n",
       "      <th>BsmtUnfSF</th>\n",
       "      <th>...</th>\n",
       "      <th>WoodDeckSF</th>\n",
       "      <th>OpenPorchSF</th>\n",
       "      <th>EnclosedPorch</th>\n",
       "      <th>3SsnPorch</th>\n",
       "      <th>ScreenPorch</th>\n",
       "      <th>PoolArea</th>\n",
       "      <th>MiscVal</th>\n",
       "      <th>MoSold</th>\n",
       "      <th>YrSold</th>\n",
       "      <th>SalePrice</th>\n",
       "    </tr>\n",
       "  </thead>\n",
       "  <tbody>\n",
       "    <tr>\n",
       "      <th>count</th>\n",
       "      <td>1460.000000</td>\n",
       "      <td>1460.000000</td>\n",
       "      <td>1460.000000</td>\n",
       "      <td>1460.000000</td>\n",
       "      <td>1460.000000</td>\n",
       "      <td>1460.000000</td>\n",
       "      <td>1460.000000</td>\n",
       "      <td>1460.000000</td>\n",
       "      <td>1460.000000</td>\n",
       "      <td>1460.000000</td>\n",
       "      <td>...</td>\n",
       "      <td>1460.000000</td>\n",
       "      <td>1460.000000</td>\n",
       "      <td>1460.000000</td>\n",
       "      <td>1460.000000</td>\n",
       "      <td>1460.000000</td>\n",
       "      <td>1460.000000</td>\n",
       "      <td>1460.000000</td>\n",
       "      <td>1460.000000</td>\n",
       "      <td>1460.000000</td>\n",
       "      <td>1460.000000</td>\n",
       "    </tr>\n",
       "    <tr>\n",
       "      <th>mean</th>\n",
       "      <td>730.500000</td>\n",
       "      <td>56.897260</td>\n",
       "      <td>10516.828082</td>\n",
       "      <td>6.099315</td>\n",
       "      <td>5.575342</td>\n",
       "      <td>1971.267808</td>\n",
       "      <td>1984.865753</td>\n",
       "      <td>443.639726</td>\n",
       "      <td>46.549315</td>\n",
       "      <td>567.240411</td>\n",
       "      <td>...</td>\n",
       "      <td>94.244521</td>\n",
       "      <td>46.660274</td>\n",
       "      <td>21.954110</td>\n",
       "      <td>3.409589</td>\n",
       "      <td>15.060959</td>\n",
       "      <td>2.758904</td>\n",
       "      <td>43.489041</td>\n",
       "      <td>6.321918</td>\n",
       "      <td>2007.815753</td>\n",
       "      <td>180921.195890</td>\n",
       "    </tr>\n",
       "    <tr>\n",
       "      <th>std</th>\n",
       "      <td>421.610009</td>\n",
       "      <td>42.300571</td>\n",
       "      <td>9981.264932</td>\n",
       "      <td>1.382997</td>\n",
       "      <td>1.112799</td>\n",
       "      <td>30.202904</td>\n",
       "      <td>20.645407</td>\n",
       "      <td>456.098091</td>\n",
       "      <td>161.319273</td>\n",
       "      <td>441.866955</td>\n",
       "      <td>...</td>\n",
       "      <td>125.338794</td>\n",
       "      <td>66.256028</td>\n",
       "      <td>61.119149</td>\n",
       "      <td>29.317331</td>\n",
       "      <td>55.757415</td>\n",
       "      <td>40.177307</td>\n",
       "      <td>496.123024</td>\n",
       "      <td>2.703626</td>\n",
       "      <td>1.328095</td>\n",
       "      <td>79442.502883</td>\n",
       "    </tr>\n",
       "    <tr>\n",
       "      <th>min</th>\n",
       "      <td>1.000000</td>\n",
       "      <td>20.000000</td>\n",
       "      <td>1300.000000</td>\n",
       "      <td>1.000000</td>\n",
       "      <td>1.000000</td>\n",
       "      <td>1872.000000</td>\n",
       "      <td>1950.000000</td>\n",
       "      <td>0.000000</td>\n",
       "      <td>0.000000</td>\n",
       "      <td>0.000000</td>\n",
       "      <td>...</td>\n",
       "      <td>0.000000</td>\n",
       "      <td>0.000000</td>\n",
       "      <td>0.000000</td>\n",
       "      <td>0.000000</td>\n",
       "      <td>0.000000</td>\n",
       "      <td>0.000000</td>\n",
       "      <td>0.000000</td>\n",
       "      <td>1.000000</td>\n",
       "      <td>2006.000000</td>\n",
       "      <td>34900.000000</td>\n",
       "    </tr>\n",
       "    <tr>\n",
       "      <th>25%</th>\n",
       "      <td>365.750000</td>\n",
       "      <td>20.000000</td>\n",
       "      <td>7553.500000</td>\n",
       "      <td>5.000000</td>\n",
       "      <td>5.000000</td>\n",
       "      <td>1954.000000</td>\n",
       "      <td>1967.000000</td>\n",
       "      <td>0.000000</td>\n",
       "      <td>0.000000</td>\n",
       "      <td>223.000000</td>\n",
       "      <td>...</td>\n",
       "      <td>0.000000</td>\n",
       "      <td>0.000000</td>\n",
       "      <td>0.000000</td>\n",
       "      <td>0.000000</td>\n",
       "      <td>0.000000</td>\n",
       "      <td>0.000000</td>\n",
       "      <td>0.000000</td>\n",
       "      <td>5.000000</td>\n",
       "      <td>2007.000000</td>\n",
       "      <td>129975.000000</td>\n",
       "    </tr>\n",
       "    <tr>\n",
       "      <th>50%</th>\n",
       "      <td>730.500000</td>\n",
       "      <td>50.000000</td>\n",
       "      <td>9478.500000</td>\n",
       "      <td>6.000000</td>\n",
       "      <td>5.000000</td>\n",
       "      <td>1973.000000</td>\n",
       "      <td>1994.000000</td>\n",
       "      <td>383.500000</td>\n",
       "      <td>0.000000</td>\n",
       "      <td>477.500000</td>\n",
       "      <td>...</td>\n",
       "      <td>0.000000</td>\n",
       "      <td>25.000000</td>\n",
       "      <td>0.000000</td>\n",
       "      <td>0.000000</td>\n",
       "      <td>0.000000</td>\n",
       "      <td>0.000000</td>\n",
       "      <td>0.000000</td>\n",
       "      <td>6.000000</td>\n",
       "      <td>2008.000000</td>\n",
       "      <td>163000.000000</td>\n",
       "    </tr>\n",
       "    <tr>\n",
       "      <th>75%</th>\n",
       "      <td>1095.250000</td>\n",
       "      <td>70.000000</td>\n",
       "      <td>11601.500000</td>\n",
       "      <td>7.000000</td>\n",
       "      <td>6.000000</td>\n",
       "      <td>2000.000000</td>\n",
       "      <td>2004.000000</td>\n",
       "      <td>712.250000</td>\n",
       "      <td>0.000000</td>\n",
       "      <td>808.000000</td>\n",
       "      <td>...</td>\n",
       "      <td>168.000000</td>\n",
       "      <td>68.000000</td>\n",
       "      <td>0.000000</td>\n",
       "      <td>0.000000</td>\n",
       "      <td>0.000000</td>\n",
       "      <td>0.000000</td>\n",
       "      <td>0.000000</td>\n",
       "      <td>8.000000</td>\n",
       "      <td>2009.000000</td>\n",
       "      <td>214000.000000</td>\n",
       "    </tr>\n",
       "    <tr>\n",
       "      <th>max</th>\n",
       "      <td>1460.000000</td>\n",
       "      <td>190.000000</td>\n",
       "      <td>215245.000000</td>\n",
       "      <td>10.000000</td>\n",
       "      <td>9.000000</td>\n",
       "      <td>2010.000000</td>\n",
       "      <td>2010.000000</td>\n",
       "      <td>5644.000000</td>\n",
       "      <td>1474.000000</td>\n",
       "      <td>2336.000000</td>\n",
       "      <td>...</td>\n",
       "      <td>857.000000</td>\n",
       "      <td>547.000000</td>\n",
       "      <td>552.000000</td>\n",
       "      <td>508.000000</td>\n",
       "      <td>480.000000</td>\n",
       "      <td>738.000000</td>\n",
       "      <td>15500.000000</td>\n",
       "      <td>12.000000</td>\n",
       "      <td>2010.000000</td>\n",
       "      <td>755000.000000</td>\n",
       "    </tr>\n",
       "  </tbody>\n",
       "</table>\n",
       "<p>8 rows × 35 columns</p>\n",
       "</div>"
      ],
      "text/plain": [
       "                Id   MSSubClass        LotArea  OverallQual  OverallCond  \\\n",
       "count  1460.000000  1460.000000    1460.000000  1460.000000  1460.000000   \n",
       "mean    730.500000    56.897260   10516.828082     6.099315     5.575342   \n",
       "std     421.610009    42.300571    9981.264932     1.382997     1.112799   \n",
       "min       1.000000    20.000000    1300.000000     1.000000     1.000000   \n",
       "25%     365.750000    20.000000    7553.500000     5.000000     5.000000   \n",
       "50%     730.500000    50.000000    9478.500000     6.000000     5.000000   \n",
       "75%    1095.250000    70.000000   11601.500000     7.000000     6.000000   \n",
       "max    1460.000000   190.000000  215245.000000    10.000000     9.000000   \n",
       "\n",
       "         YearBuilt  YearRemodAdd   BsmtFinSF1   BsmtFinSF2    BsmtUnfSF  ...  \\\n",
       "count  1460.000000   1460.000000  1460.000000  1460.000000  1460.000000  ...   \n",
       "mean   1971.267808   1984.865753   443.639726    46.549315   567.240411  ...   \n",
       "std      30.202904     20.645407   456.098091   161.319273   441.866955  ...   \n",
       "min    1872.000000   1950.000000     0.000000     0.000000     0.000000  ...   \n",
       "25%    1954.000000   1967.000000     0.000000     0.000000   223.000000  ...   \n",
       "50%    1973.000000   1994.000000   383.500000     0.000000   477.500000  ...   \n",
       "75%    2000.000000   2004.000000   712.250000     0.000000   808.000000  ...   \n",
       "max    2010.000000   2010.000000  5644.000000  1474.000000  2336.000000  ...   \n",
       "\n",
       "        WoodDeckSF  OpenPorchSF  EnclosedPorch    3SsnPorch  ScreenPorch  \\\n",
       "count  1460.000000  1460.000000    1460.000000  1460.000000  1460.000000   \n",
       "mean     94.244521    46.660274      21.954110     3.409589    15.060959   \n",
       "std     125.338794    66.256028      61.119149    29.317331    55.757415   \n",
       "min       0.000000     0.000000       0.000000     0.000000     0.000000   \n",
       "25%       0.000000     0.000000       0.000000     0.000000     0.000000   \n",
       "50%       0.000000    25.000000       0.000000     0.000000     0.000000   \n",
       "75%     168.000000    68.000000       0.000000     0.000000     0.000000   \n",
       "max     857.000000   547.000000     552.000000   508.000000   480.000000   \n",
       "\n",
       "          PoolArea       MiscVal       MoSold       YrSold      SalePrice  \n",
       "count  1460.000000   1460.000000  1460.000000  1460.000000    1460.000000  \n",
       "mean      2.758904     43.489041     6.321918  2007.815753  180921.195890  \n",
       "std      40.177307    496.123024     2.703626     1.328095   79442.502883  \n",
       "min       0.000000      0.000000     1.000000  2006.000000   34900.000000  \n",
       "25%       0.000000      0.000000     5.000000  2007.000000  129975.000000  \n",
       "50%       0.000000      0.000000     6.000000  2008.000000  163000.000000  \n",
       "75%       0.000000      0.000000     8.000000  2009.000000  214000.000000  \n",
       "max     738.000000  15500.000000    12.000000  2010.000000  755000.000000  \n",
       "\n",
       "[8 rows x 35 columns]"
      ]
     },
     "execution_count": 10,
     "metadata": {},
     "output_type": "execute_result"
    }
   ],
   "source": [
    "df.describe()"
   ]
  },
  {
   "cell_type": "code",
   "execution_count": 11,
   "id": "4beaec0b",
   "metadata": {
    "execution": {
     "iopub.execute_input": "2023-10-23T17:10:13.389593Z",
     "iopub.status.busy": "2023-10-23T17:10:13.388753Z",
     "iopub.status.idle": "2023-10-23T17:10:13.394571Z",
     "shell.execute_reply": "2023-10-23T17:10:13.393313Z"
    },
    "papermill": {
     "duration": 0.022355,
     "end_time": "2023-10-23T17:10:13.396938",
     "exception": false,
     "start_time": "2023-10-23T17:10:13.374583",
     "status": "completed"
    },
    "tags": []
   },
   "outputs": [],
   "source": [
    "#sns.pairplot(df1)"
   ]
  },
  {
   "cell_type": "code",
   "execution_count": 12,
   "id": "e0fc0d1d",
   "metadata": {
    "execution": {
     "iopub.execute_input": "2023-10-23T17:10:13.424923Z",
     "iopub.status.busy": "2023-10-23T17:10:13.424478Z",
     "iopub.status.idle": "2023-10-23T17:10:13.978918Z",
     "shell.execute_reply": "2023-10-23T17:10:13.977471Z"
    },
    "papermill": {
     "duration": 0.572527,
     "end_time": "2023-10-23T17:10:13.982508",
     "exception": false,
     "start_time": "2023-10-23T17:10:13.409981",
     "status": "completed"
    },
    "tags": []
   },
   "outputs": [
    {
     "data": {
      "text/plain": [
       "<Axes: xlabel='SalePrice', ylabel='Density'>"
      ]
     },
     "execution_count": 12,
     "metadata": {},
     "output_type": "execute_result"
    },
    {
     "data": {
      "image/png": "[encoded data removed]",
      "text/plain": [
       "<Figure size 640x480 with 1 Axes>"
      ]
     },
     "metadata": {},
     "output_type": "display_data"
    }
   ],
   "source": [
    "sns.distplot(df['SalePrice'], bins=100)"
   ]
  },
  {
   "cell_type": "markdown",
   "id": "b13b1143",
   "metadata": {
    "papermill": {
     "duration": 0.013277,
     "end_time": "2023-10-23T17:10:14.009462",
     "exception": false,
     "start_time": "2023-10-23T17:10:13.996185",
     "status": "completed"
    },
    "tags": []
   },
   "source": [
    "# **Dummy Variable**"
   ]
  },
  {
   "cell_type": "code",
   "execution_count": 13,
   "id": "93be8ad4",
   "metadata": {
    "execution": {
     "iopub.execute_input": "2023-10-23T17:10:14.040453Z",
     "iopub.status.busy": "2023-10-23T17:10:14.039226Z",
     "iopub.status.idle": "2023-10-23T17:10:14.083059Z",
     "shell.execute_reply": "2023-10-23T17:10:14.081653Z"
    },
    "papermill": {
     "duration": 0.061941,
     "end_time": "2023-10-23T17:10:14.086113",
     "exception": false,
     "start_time": "2023-10-23T17:10:14.024172",
     "status": "completed"
    },
    "tags": []
   },
   "outputs": [],
   "source": [
    "df_dummies= pd.get_dummies(df)"
   ]
  },
  {
   "cell_type": "code",
   "execution_count": 14,
   "id": "a079f51c",
   "metadata": {
    "execution": {
     "iopub.execute_input": "2023-10-23T17:10:14.114621Z",
     "iopub.status.busy": "2023-10-23T17:10:14.114176Z",
     "iopub.status.idle": "2023-10-23T17:10:14.123275Z",
     "shell.execute_reply": "2023-10-23T17:10:14.121867Z"
    },
    "papermill": {
     "duration": 0.026589,
     "end_time": "2023-10-23T17:10:14.126126",
     "exception": false,
     "start_time": "2023-10-23T17:10:14.099537",
     "status": "completed"
    },
    "tags": []
   },
   "outputs": [],
   "source": [
    "X = df_dummies.drop(['SalePrice'], axis=1)\n",
    "y = df_dummies['SalePrice']"
   ]
  },
  {
   "cell_type": "code",
   "execution_count": 15,
   "id": "2334ec88",
   "metadata": {
    "execution": {
     "iopub.execute_input": "2023-10-23T17:10:14.154892Z",
     "iopub.status.busy": "2023-10-23T17:10:14.154470Z",
     "iopub.status.idle": "2023-10-23T17:10:14.162002Z",
     "shell.execute_reply": "2023-10-23T17:10:14.160811Z"
    },
    "papermill": {
     "duration": 0.024698,
     "end_time": "2023-10-23T17:10:14.164438",
     "exception": false,
     "start_time": "2023-10-23T17:10:14.139740",
     "status": "completed"
    },
    "tags": []
   },
   "outputs": [
    {
     "data": {
      "text/plain": [
       "(1460, 246)"
      ]
     },
     "execution_count": 15,
     "metadata": {},
     "output_type": "execute_result"
    }
   ],
   "source": [
    "df_dummies.shape"
   ]
  },
  {
   "cell_type": "code",
   "execution_count": 16,
   "id": "238a5371",
   "metadata": {
    "execution": {
     "iopub.execute_input": "2023-10-23T17:10:14.193292Z",
     "iopub.status.busy": "2023-10-23T17:10:14.192758Z",
     "iopub.status.idle": "2023-10-23T17:10:14.206401Z",
     "shell.execute_reply": "2023-10-23T17:10:14.204992Z"
    },
    "papermill": {
     "duration": 0.031169,
     "end_time": "2023-10-23T17:10:14.209144",
     "exception": false,
     "start_time": "2023-10-23T17:10:14.177975",
     "status": "completed"
    },
    "tags": []
   },
   "outputs": [],
   "source": [
    "X_train, X_test, y_train, y_test = train_test_split(X, y, test_size=0.2, random_state=42)"
   ]
  },
  {
   "cell_type": "markdown",
   "id": "deee4ba7",
   "metadata": {
    "papermill": {
     "duration": 0.013507,
     "end_time": "2023-10-23T17:10:14.236841",
     "exception": false,
     "start_time": "2023-10-23T17:10:14.223334",
     "status": "completed"
    },
    "tags": []
   },
   "source": [
    "# **Scaling**"
   ]
  },
  {
   "cell_type": "code",
   "execution_count": 17,
   "id": "fdd8589f",
   "metadata": {
    "execution": {
     "iopub.execute_input": "2023-10-23T17:10:14.265780Z",
     "iopub.status.busy": "2023-10-23T17:10:14.265336Z",
     "iopub.status.idle": "2023-10-23T17:10:14.321766Z",
     "shell.execute_reply": "2023-10-23T17:10:14.320336Z"
    },
    "papermill": {
     "duration": 0.074326,
     "end_time": "2023-10-23T17:10:14.324756",
     "exception": false,
     "start_time": "2023-10-23T17:10:14.250430",
     "status": "completed"
    },
    "tags": []
   },
   "outputs": [],
   "source": [
    "scaler = StandardScaler()\n",
    "X_train = scaler.fit_transform(X_train)\n",
    "X_test = scaler.fit_transform(X_test)"
   ]
  },
  {
   "cell_type": "markdown",
   "id": "ed26f855",
   "metadata": {
    "papermill": {
     "duration": 0.015281,
     "end_time": "2023-10-23T17:10:14.353592",
     "exception": false,
     "start_time": "2023-10-23T17:10:14.338311",
     "status": "completed"
    },
    "tags": []
   },
   "source": [
    "# **Linear Regression**"
   ]
  },
  {
   "cell_type": "code",
   "execution_count": 18,
   "id": "6e82c635",
   "metadata": {
    "execution": {
     "iopub.execute_input": "2023-10-23T17:10:14.384021Z",
     "iopub.status.busy": "2023-10-23T17:10:14.383493Z",
     "iopub.status.idle": "2023-10-23T17:10:14.480622Z",
     "shell.execute_reply": "2023-10-23T17:10:14.478609Z"
    },
    "papermill": {
     "duration": 0.117394,
     "end_time": "2023-10-23T17:10:14.485364",
     "exception": false,
     "start_time": "2023-10-23T17:10:14.367970",
     "status": "completed"
    },
    "tags": []
   },
   "outputs": [],
   "source": [
    "lr=LinearRegression()\n",
    "model_lr=lr.fit(X_train, y_train)\n",
    "pred_lr=model_lr.predict(X_test)"
   ]
  },
  {
   "cell_type": "code",
   "execution_count": 19,
   "id": "1694aaba",
   "metadata": {
    "execution": {
     "iopub.execute_input": "2023-10-23T17:10:14.593826Z",
     "iopub.status.busy": "2023-10-23T17:10:14.593436Z",
     "iopub.status.idle": "2023-10-23T17:10:14.601511Z",
     "shell.execute_reply": "2023-10-23T17:10:14.600526Z"
    },
    "papermill": {
     "duration": 0.052206,
     "end_time": "2023-10-23T17:10:14.604269",
     "exception": false,
     "start_time": "2023-10-23T17:10:14.552063",
     "status": "completed"
    },
    "tags": []
   },
   "outputs": [
    {
     "name": "stdout",
     "output_type": "stream",
     "text": [
      "R2: -2.656210507486403e+24\n",
      "MSE: 2.037400106737877e+34\n",
      "RMSE: 1.4273752508495714e+17\n"
     ]
    }
   ],
   "source": [
    "r2_lr = r2_score(y_test, pred_lr)\n",
    "print(\"R2:\", r2_lr)\n",
    "mse_lr = mean_squared_error(y_test, pred_lr)\n",
    "print(\"MSE:\", mse_lr)\n",
    "rmse_lr = np.sqrt(mse_lr)\n",
    "print(\"RMSE:\", rmse_lr)"
   ]
  },
  {
   "cell_type": "code",
   "execution_count": 20,
   "id": "cac9b368",
   "metadata": {
    "execution": {
     "iopub.execute_input": "2023-10-23T17:10:14.634020Z",
     "iopub.status.busy": "2023-10-23T17:10:14.633223Z",
     "iopub.status.idle": "2023-10-23T17:10:14.966761Z",
     "shell.execute_reply": "2023-10-23T17:10:14.965624Z"
    },
    "papermill": {
     "duration": 0.351274,
     "end_time": "2023-10-23T17:10:14.969457",
     "exception": false,
     "start_time": "2023-10-23T17:10:14.618183",
     "status": "completed"
    },
    "tags": []
   },
   "outputs": [
    {
     "data": {
      "text/plain": [
       "<Axes: xlabel='SalePrice'>"
      ]
     },
     "execution_count": 20,
     "metadata": {},
     "output_type": "execute_result"
    },
    {
     "data": {
      "image/png": "[encoded data removed]",
      "text/plain": [
       "<Figure size 640x480 with 1 Axes>"
      ]
     },
     "metadata": {},
     "output_type": "display_data"
    }
   ],
   "source": [
    "sns.residplot(x=y_test, y=pred_lr) "
   ]
  },
  {
   "cell_type": "markdown",
   "id": "f50c7bd5",
   "metadata": {
    "papermill": {
     "duration": 0.013823,
     "end_time": "2023-10-23T17:10:14.997582",
     "exception": false,
     "start_time": "2023-10-23T17:10:14.983759",
     "status": "completed"
    },
    "tags": []
   },
   "source": [
    "# **Random Forest Classifier**"
   ]
  },
  {
   "cell_type": "code",
   "execution_count": 21,
   "id": "c0dc7cfb",
   "metadata": {
    "execution": {
     "iopub.execute_input": "2023-10-23T17:10:15.095408Z",
     "iopub.status.busy": "2023-10-23T17:10:15.094051Z",
     "iopub.status.idle": "2023-10-23T17:10:15.099455Z",
     "shell.execute_reply": "2023-10-23T17:10:15.098530Z"
    },
    "papermill": {
     "duration": 0.023934,
     "end_time": "2023-10-23T17:10:15.102008",
     "exception": false,
     "start_time": "2023-10-23T17:10:15.078074",
     "status": "completed"
    },
    "tags": []
   },
   "outputs": [],
   "source": [
    "rf = RandomForestRegressor(n_estimators=100, random_state=42)"
   ]
  },
  {
   "cell_type": "code",
   "execution_count": 22,
   "id": "67b4bcc6",
   "metadata": {
    "execution": {
     "iopub.execute_input": "2023-10-23T17:10:15.134639Z",
     "iopub.status.busy": "2023-10-23T17:10:15.133577Z",
     "iopub.status.idle": "2023-10-23T17:10:18.632233Z",
     "shell.execute_reply": "2023-10-23T17:10:18.630717Z"
    },
    "papermill": {
     "duration": 3.518063,
     "end_time": "2023-10-23T17:10:18.635414",
     "exception": false,
     "start_time": "2023-10-23T17:10:15.117351",
     "status": "completed"
    },
    "tags": []
   },
   "outputs": [],
   "source": [
    "model_rf=rf.fit(X, y)\n",
    "pred_rf = model_rf.predict(X)"
   ]
  },
  {
   "cell_type": "code",
   "execution_count": 23,
   "id": "afb564c8",
   "metadata": {
    "execution": {
     "iopub.execute_input": "2023-10-23T17:10:18.667080Z",
     "iopub.status.busy": "2023-10-23T17:10:18.666639Z",
     "iopub.status.idle": "2023-10-23T17:10:18.676503Z",
     "shell.execute_reply": "2023-10-23T17:10:18.674878Z"
    },
    "papermill": {
     "duration": 0.028592,
     "end_time": "2023-10-23T17:10:18.679145",
     "exception": false,
     "start_time": "2023-10-23T17:10:18.650553",
     "status": "completed"
    },
    "tags": []
   },
   "outputs": [
    {
     "name": "stdout",
     "output_type": "stream",
     "text": [
      "R2: 0.9802368284764406\n",
      "MSE: 124642144.57508472\n",
      "RMSE: 11164.324635869592\n"
     ]
    }
   ],
   "source": [
    "r2_rf = r2_score(y, pred_rf)\n",
    "print(\"R2:\", r2_rf)\n",
    "mse_rf = mean_squared_error(y, pred_rf)\n",
    "print(\"MSE:\", mse_rf)\n",
    "rmse_rf = np.sqrt(mse_rf)\n",
    "print(\"RMSE:\", rmse_rf)"
   ]
  },
  {
   "cell_type": "code",
   "execution_count": 24,
   "id": "8a28f729",
   "metadata": {
    "execution": {
     "iopub.execute_input": "2023-10-23T17:10:18.711786Z",
     "iopub.status.busy": "2023-10-23T17:10:18.710902Z",
     "iopub.status.idle": "2023-10-23T17:10:19.067558Z",
     "shell.execute_reply": "2023-10-23T17:10:19.066405Z"
    },
    "papermill": {
     "duration": 0.376496,
     "end_time": "2023-10-23T17:10:19.070390",
     "exception": false,
     "start_time": "2023-10-23T17:10:18.693894",
     "status": "completed"
    },
    "tags": []
   },
   "outputs": [
    {
     "data": {
      "text/plain": [
       "<Axes: xlabel='SalePrice'>"
      ]
     },
     "execution_count": 24,
     "metadata": {},
     "output_type": "execute_result"
    },
    {
     "data": {
      "image/png": "[encoded data removed]",
      "text/plain": [
       "<Figure size 640x480 with 1 Axes>"
      ]
     },
     "metadata": {},
     "output_type": "display_data"
    }
   ],
   "source": [
    "sns.residplot(x=y, y=pred_rf) "
   ]
  },
  {
   "cell_type": "markdown",
   "id": "239a2dd6",
   "metadata": {
    "papermill": {
     "duration": 0.015152,
     "end_time": "2023-10-23T17:10:19.101119",
     "exception": false,
     "start_time": "2023-10-23T17:10:19.085967",
     "status": "completed"
    },
    "tags": []
   },
   "source": [
    "# **Random Forest using Cross Validation**"
   ]
  },
  {
   "cell_type": "code",
   "execution_count": 25,
   "id": "6fc1443d",
   "metadata": {
    "execution": {
     "iopub.execute_input": "2023-10-23T17:10:19.134178Z",
     "iopub.status.busy": "2023-10-23T17:10:19.133764Z",
     "iopub.status.idle": "2023-10-23T17:10:19.139912Z",
     "shell.execute_reply": "2023-10-23T17:10:19.138921Z"
    },
    "papermill": {
     "duration": 0.025466,
     "end_time": "2023-10-23T17:10:19.142223",
     "exception": false,
     "start_time": "2023-10-23T17:10:19.116757",
     "status": "completed"
    },
    "tags": []
   },
   "outputs": [],
   "source": [
    "my_pipeline = make_pipeline(SimpleImputer(), RandomForestRegressor())"
   ]
  },
  {
   "cell_type": "code",
   "execution_count": 26,
   "id": "56399692",
   "metadata": {
    "execution": {
     "iopub.execute_input": "2023-10-23T17:10:19.176294Z",
     "iopub.status.busy": "2023-10-23T17:10:19.175887Z",
     "iopub.status.idle": "2023-10-23T17:10:46.812566Z",
     "shell.execute_reply": "2023-10-23T17:10:46.811178Z"
    },
    "papermill": {
     "duration": 27.657544,
     "end_time": "2023-10-23T17:10:46.815965",
     "exception": false,
     "start_time": "2023-10-23T17:10:19.158421",
     "status": "completed"
    },
    "tags": []
   },
   "outputs": [
    {
     "name": "stdout",
     "output_type": "stream",
     "text": [
      "[-17451.4436 -16955.8749 -18096.5881 -15892.4686 -19201.2207]\n"
     ]
    }
   ],
   "source": [
    "from sklearn.model_selection import cross_val_score\n",
    "scores_rf = cross_val_score(my_pipeline, X, y, scoring='neg_mean_absolute_error').round(4)\n",
    "scores_r2 = cross_val_score(my_pipeline, X, y, scoring='r2').mean().round(4)\n",
    "print(scores_rf)"
   ]
  },
  {
   "cell_type": "code",
   "execution_count": 27,
   "id": "5cabdf16",
   "metadata": {
    "execution": {
     "iopub.execute_input": "2023-10-23T17:10:46.849710Z",
     "iopub.status.busy": "2023-10-23T17:10:46.849310Z",
     "iopub.status.idle": "2023-10-23T17:10:46.856331Z",
     "shell.execute_reply": "2023-10-23T17:10:46.854983Z"
    },
    "papermill": {
     "duration": 0.027222,
     "end_time": "2023-10-23T17:10:46.859489",
     "exception": false,
     "start_time": "2023-10-23T17:10:46.832267",
     "status": "completed"
    },
    "tags": []
   },
   "outputs": [
    {
     "name": "stdout",
     "output_type": "stream",
     "text": [
      "R2 score: 0.857\n",
      "MSE 17519.519180\n",
      "RMSE 132.361321\n"
     ]
    }
   ],
   "source": [
    "print('R2 score:', scores_r2)\n",
    "mse_crf=-1 * scores_rf.mean()\n",
    "print('MSE %2f' %(mse_crf))\n",
    "rmse_crf=np.sqrt(mse_crf)\n",
    "print('RMSE %2f' %(rmse_crf))"
   ]
  },
  {
   "cell_type": "code",
   "execution_count": 28,
   "id": "3c82e784",
   "metadata": {
    "execution": {
     "iopub.execute_input": "2023-10-23T17:10:46.892603Z",
     "iopub.status.busy": "2023-10-23T17:10:46.892183Z",
     "iopub.status.idle": "2023-10-23T17:10:46.900526Z",
     "shell.execute_reply": "2023-10-23T17:10:46.899375Z"
    },
    "papermill": {
     "duration": 0.027916,
     "end_time": "2023-10-23T17:10:46.903065",
     "exception": false,
     "start_time": "2023-10-23T17:10:46.875149",
     "status": "completed"
    },
    "tags": []
   },
   "outputs": [],
   "source": [
    "#logistic regression\n",
    "result1 = [\"1.\",\"Linear Regression\"]\n",
    "result1.append(round(r2_lr*100,2))\n",
    "result1.append(round(mse_lr,2))\n",
    "result1.append(round(rmse_lr,2))\n",
    "\n",
    "#random forest classifier\n",
    "result2 = [\"2.\",\"Random Forest Classifier\"]\n",
    "result2.append(round(r2_rf*100,2))\n",
    "result2.append(round(mse_rf,2))\n",
    "result2.append(round(rmse_rf,2))\n",
    "\n",
    "#random forest classifier with cross val\n",
    "result3 = [\"3.\",\"Random Forest Classifier with Cross Validation\"]\n",
    "result3.append(round(scores_r2*100,2))\n",
    "result3.append(round(mse_crf,2))\n",
    "result3.append(round(rmse_crf,2))"
   ]
  },
  {
   "cell_type": "code",
   "execution_count": 29,
   "id": "dd3ebd3e",
   "metadata": {
    "execution": {
     "iopub.execute_input": "2023-10-23T17:10:46.937169Z",
     "iopub.status.busy": "2023-10-23T17:10:46.936600Z",
     "iopub.status.idle": "2023-10-23T17:10:46.944610Z",
     "shell.execute_reply": "2023-10-23T17:10:46.943404Z"
    },
    "papermill": {
     "duration": 0.028695,
     "end_time": "2023-10-23T17:10:46.947742",
     "exception": false,
     "start_time": "2023-10-23T17:10:46.919047",
     "status": "completed"
    },
    "tags": []
   },
   "outputs": [
    {
     "name": "stdout",
     "output_type": "stream",
     "text": [
      "+-------+------------------------------------------------+------------------------+-----------------------+-------------------------+\n",
      "| S.No. |                     Model                      |    R_Squared Score     |   Mean Squared Error  | Root Mean Squared Error |\n",
      "+-------+------------------------------------------------+------------------------+-----------------------+-------------------------+\n",
      "|   1.  |               Linear Regression                | -2.656210507486403e+26 | 2.037400106737877e+34 |  1.4273752508495714e+17 |\n",
      "|   2.  |            Random Forest Classifier            |         98.02          |      124642144.58     |         11164.32        |\n",
      "|   3.  | Random Forest Classifier with Cross Validation |          85.7          |        17519.52       |          132.36         |\n",
      "+-------+------------------------------------------------+------------------------+-----------------------+-------------------------+\n"
     ]
    }
   ],
   "source": [
    "Result_table = PrettyTable([\"S.No.\",\"Model\",\"R_Squared Score\",\"Mean Squared Error\",\"Root Mean Squared Error\"])\n",
    "Result_table.add_row(result1)\n",
    "Result_table.add_row(result2)\n",
    "Result_table.add_row(result3)\n",
    "print(Result_table)"
   ]
  },
  {
   "cell_type": "code",
   "execution_count": null,
   "id": "e53ba042",
   "metadata": {
    "papermill": {
     "duration": 0.015324,
     "end_time": "2023-10-23T17:10:46.978779",
     "exception": false,
     "start_time": "2023-10-23T17:10:46.963455",
     "status": "completed"
    },
    "tags": []
   },
   "outputs": [],
   "source": []
  },
  {
   "cell_type": "code",
   "execution_count": null,
   "id": "dc9aad6c",
   "metadata": {
    "papermill": {
     "duration": 0.015191,
     "end_time": "2023-10-23T17:10:47.009875",
     "exception": false,
     "start_time": "2023-10-23T17:10:46.994684",
     "status": "completed"
    },
    "tags": []
   },
   "outputs": [],
   "source": []
  }
 ],
 "metadata": {
  "kernelspec": {
   "display_name": "Python 3",
   "language": "python",
   "name": "python3"
  },
  "language_info": {
   "codemirror_mode": {
    "name": "ipython",
    "version": 3
   },
   "file_extension": ".py",
   "mimetype": "text/x-python",
   "name": "python",
   "nbconvert_exporter": "python",
   "pygments_lexer": "ipython3",
   "version": "3.10.12"
  },
  "papermill": {
   "default_parameters": {},
   "duration": 42.839241,
   "end_time": "2023-10-23T17:10:47.748130",
   "environment_variables": {},
   "exception": null,
   "input_path": "__notebook__.ipynb",
   "output_path": "__notebook__.ipynb",
   "parameters": {},
   "start_time": "2023-10-23T17:10:04.908889",
   "version": "2.4.0"
  }
 },
 "nbformat": 4,
 "nbformat_minor": 5
}
