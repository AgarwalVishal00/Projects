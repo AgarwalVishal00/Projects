{
 "cells": [
  {
   "cell_type": "markdown",
   "id": "912c1b80",
   "metadata": {
    "papermill": {
     "duration": 0.013198,
     "end_time": "2021-11-08T02:45:14.353080",
     "exception": false,
     "start_time": "2021-11-08T02:45:14.339882",
     "status": "completed"
    },
    "tags": []
   },
   "source": [
    "# Stock Market Analysis NSE"
   ]
  },
  {
   "attachments": {
    "0e92a5b6-d8fc-46c0-a3f5-5aec186e64b6.jpg": {
     "image/jpeg": "[encoded data removed]"
    }
   },
   "cell_type": "markdown",
   "id": "796dc7b8",
   "metadata": {
    "papermill": {
     "duration": 0.015179,
     "end_time": "2021-11-08T02:45:14.383232",
     "exception": false,
     "start_time": "2021-11-08T02:45:14.368053",
     "status": "completed"
    },
    "tags": []
   },
   "source": [
    "![download.jpg](attachment:0e92a5b6-d8fc-46c0-a3f5-5aec186e64b6.jpg)"
   ]
  },
  {
   "cell_type": "markdown",
   "id": "b6b5419b",
   "metadata": {
    "papermill": {
     "duration": 0.012343,
     "end_time": "2021-11-08T02:45:14.414821",
     "exception": false,
     "start_time": "2021-11-08T02:45:14.402478",
     "status": "completed"
    },
    "tags": []
   },
   "source": [
    "\n",
    "\n",
    "\n",
    "National Stock Exchange of India Limited (NSE) is the leading stock exchange of India, located in the city of Mumbai, Maharashtra. It is under the ownership of some leading financial institutions, Banks, and Insurance companies.NSE was established in 1992 as the first dematerialized electronic exchange in the country. NSE was the first exchange in the country to provide a modern, fully automated screen-based electronic trading system that offered easy trading facilities to investors spread across the length and breadth of the country.\n",
    "\n",
    "National Stock Exchange has a total market capitalization of more than US$3 trillion, making it the world's 10th-largest stock exchange as of May 2021. NSE's flagship index, the NIFTY 50, a 50 stock index is used extensively by investors in India and around the world as a barometer of the Indian capital market. The NIFTY 50 index was launched in 1996 by NSE.\n",
    "\n",
    "The companies taken are one among the top 5 companies in Nifty 50\n",
    "\n",
    "\n",
    "\n"
   ]
  },
  {
   "cell_type": "markdown",
   "id": "f59c755c",
   "metadata": {
    "papermill": {
     "duration": 0.011921,
     "end_time": "2021-11-08T02:45:14.439200",
     "exception": false,
     "start_time": "2021-11-08T02:45:14.427279",
     "status": "completed"
    },
    "tags": []
   },
   "source": [
    "**Importing important packages and yahoo for finance for NSE data**"
   ]
  },
  {
   "cell_type": "code",
   "execution_count": 1,
   "id": "2023af59",
   "metadata": {
    "execution": {
     "iopub.execute_input": "2021-11-08T02:45:14.469875Z",
     "iopub.status.busy": "2021-11-08T02:45:14.468756Z",
     "iopub.status.idle": "2021-11-08T02:45:27.215690Z",
     "shell.execute_reply": "2021-11-08T02:45:27.216216Z",
     "shell.execute_reply.started": "2021-11-07T14:18:18.572408Z"
    },
    "papermill": {
     "duration": 12.765035,
     "end_time": "2021-11-08T02:45:27.216512",
     "exception": false,
     "start_time": "2021-11-08T02:45:14.451477",
     "status": "completed"
    },
    "tags": []
   },
   "outputs": [
    {
     "name": "stdout",
     "output_type": "stream",
     "text": [
      "Collecting yfinance\r\n",
      "  Downloading yfinance-0.1.64.tar.gz (26 kB)\r\n",
      "Requirement already satisfied: pandas>=0.24 in /opt/conda/lib/python3.7/site-packages (from yfinance) (1.3.3)\r\n",
      "Requirement already satisfied: numpy>=1.15 in /opt/conda/lib/python3.7/site-packages (from yfinance) (1.19.5)\r\n",
      "Requirement already satisfied: requests>=2.20 in /opt/conda/lib/python3.7/site-packages (from yfinance) (2.25.1)\r\n",
      "Collecting multitasking>=0.0.7\r\n",
      "  Downloading multitasking-0.0.9.tar.gz (8.1 kB)\r\n",
      "Requirement already satisfied: lxml>=4.5.1 in /opt/conda/lib/python3.7/site-packages (from yfinance) (4.6.3)\r\n",
      "Requirement already satisfied: python-dateutil>=2.7.3 in /opt/conda/lib/python3.7/site-packages (from pandas>=0.24->yfinance) (2.8.0)\r\n",
      "Requirement already satisfied: pytz>=2017.3 in /opt/conda/lib/python3.7/site-packages (from pandas>=0.24->yfinance) (2021.1)\r\n",
      "Requirement already satisfied: six>=1.5 in /opt/conda/lib/python3.7/site-packages (from python-dateutil>=2.7.3->pandas>=0.24->yfinance) (1.16.0)\r\n",
      "Requirement already satisfied: chardet<5,>=3.0.2 in /opt/conda/lib/python3.7/site-packages (from requests>=2.20->yfinance) (4.0.0)\r\n",
      "Requirement already satisfied: idna<3,>=2.5 in /opt/conda/lib/python3.7/site-packages (from requests>=2.20->yfinance) (2.10)\r\n",
      "Requirement already satisfied: certifi>=2017.4.17 in /opt/conda/lib/python3.7/site-packages (from requests>=2.20->yfinance) (2021.10.8)\r\n",
      "Requirement already satisfied: urllib3<1.27,>=1.21.1 in /opt/conda/lib/python3.7/site-packages (from requests>=2.20->yfinance) (1.26.6)\r\n",
      "Building wheels for collected packages: yfinance, multitasking\r\n",
      "  Building wheel for yfinance (setup.py) ... \u001b[?25l-\b \b\\\b \bdone\r\n",
      "\u001b[?25h  Created wheel for yfinance: filename=yfinance-0.1.64-py2.py3-none-any.whl size=24109 sha256=8119bafa26560612a5306f56dd333c88228fbaaaf811d6322a521ab4d0b95684\r\n",
      "  Stored in directory: /root/.cache/pip/wheels/86/fe/9b/a4d3d78796b699e37065e5b6c27b75cff448ddb8b24943c288\r\n",
      "  Building wheel for multitasking (setup.py) ... \u001b[?25l-\b \bdone\r\n",
      "\u001b[?25h  Created wheel for multitasking: filename=multitasking-0.0.9-py3-none-any.whl size=8375 sha256=2add09d772dc02fdf0048baaed17be7a1ab622884d3ede80582abbbec7f87965\r\n",
      "  Stored in directory: /root/.cache/pip/wheels/ae/25/47/4d68431a7ec1b6c4b5233365934b74c1d4e665bf5f968d363a\r\n",
      "Successfully built yfinance multitasking\r\n",
      "Installing collected packages: multitasking, yfinance\r\n",
      "Successfully installed multitasking-0.0.9 yfinance-0.1.64\r\n",
      "\u001b[33mWARNING: Running pip as the 'root' user can result in broken permissions and conflicting behaviour with the system package manager. It is recommended to use a virtual environment instead: https://pip.pypa.io/warnings/venv\u001b[0m\r\n"
     ]
    }
   ],
   "source": [
    "import pandas as pd\n",
    "import numpy as np\n",
    "import matplotlib.pyplot as plt\n",
    "import seaborn as sb\n",
    "from pandas_datareader import data as pdr\n",
    "try:\n",
    "    import yfinance as yf    \n",
    "except:\n",
    "    !pip install yfinance    \n",
    "    import yfinance as yf   "
   ]
  },
  {
   "cell_type": "markdown",
   "id": "01ada3e3",
   "metadata": {
    "papermill": {
     "duration": 0.022315,
     "end_time": "2021-11-08T02:45:27.256401",
     "exception": false,
     "start_time": "2021-11-08T02:45:27.234086",
     "status": "completed"
    },
    "tags": []
   },
   "source": [
    "**Listing the stocks we want to analyze**"
   ]
  },
  {
   "cell_type": "code",
   "execution_count": 2,
   "id": "d6b85db9",
   "metadata": {
    "execution": {
     "iopub.execute_input": "2021-11-08T02:45:27.303096Z",
     "iopub.status.busy": "2021-11-08T02:45:27.302174Z",
     "iopub.status.idle": "2021-11-08T02:45:27.304811Z",
     "shell.execute_reply": "2021-11-08T02:45:27.305608Z",
     "shell.execute_reply.started": "2021-11-07T14:18:36.29149Z"
    },
    "papermill": {
     "duration": 0.032502,
     "end_time": "2021-11-08T02:45:27.305854",
     "exception": false,
     "start_time": "2021-11-08T02:45:27.273352",
     "status": "completed"
    },
    "tags": []
   },
   "outputs": [],
   "source": [
    "list = ['RELIANCE.NS','TCS.NS','HDFCBANK.NS','HINDUNILVR.NS']"
   ]
  },
  {
   "cell_type": "markdown",
   "id": "f718c8e8",
   "metadata": {
    "papermill": {
     "duration": 0.017836,
     "end_time": "2021-11-08T02:45:27.345549",
     "exception": false,
     "start_time": "2021-11-08T02:45:27.327713",
     "status": "completed"
    },
    "tags": []
   },
   "source": [
    "**Putting the stocks in a dataframe**"
   ]
  },
  {
   "cell_type": "code",
   "execution_count": 3,
   "id": "b98151ca",
   "metadata": {
    "execution": {
     "iopub.execute_input": "2021-11-08T02:45:27.388553Z",
     "iopub.status.busy": "2021-11-08T02:45:27.379029Z",
     "iopub.status.idle": "2021-11-08T02:45:30.828777Z",
     "shell.execute_reply": "2021-11-08T02:45:30.828095Z",
     "shell.execute_reply.started": "2021-11-07T14:18:36.301219Z"
    },
    "papermill": {
     "duration": 3.468059,
     "end_time": "2021-11-08T02:45:30.828914",
     "exception": false,
     "start_time": "2021-11-08T02:45:27.360855",
     "status": "completed"
    },
    "tags": []
   },
   "outputs": [],
   "source": [
    "data = pd.DataFrame()\n",
    "for t in list:\n",
    "    data[t] = pdr.DataReader(t, data_source='yahoo', start='2011-1-1')['Adj Close']"
   ]
  },
  {
   "cell_type": "code",
   "execution_count": 4,
   "id": "c12b07dd",
   "metadata": {
    "execution": {
     "iopub.execute_input": "2021-11-08T02:45:30.863080Z",
     "iopub.status.busy": "2021-11-08T02:45:30.862491Z",
     "iopub.status.idle": "2021-11-08T02:45:30.876905Z",
     "shell.execute_reply": "2021-11-08T02:45:30.877401Z",
     "shell.execute_reply.started": "2021-11-07T14:18:45.272578Z"
    },
    "papermill": {
     "duration": 0.033171,
     "end_time": "2021-11-08T02:45:30.877583",
     "exception": false,
     "start_time": "2021-11-08T02:45:30.844412",
     "status": "completed"
    },
    "tags": []
   },
   "outputs": [
    {
     "name": "stdout",
     "output_type": "stream",
     "text": [
      "<class 'pandas.core.frame.DataFrame'>\n",
      "DatetimeIndex: 2670 entries, 2011-01-03 to 2021-11-04\n",
      "Data columns (total 4 columns):\n",
      " #   Column         Non-Null Count  Dtype  \n",
      "---  ------         --------------  -----  \n",
      " 0   RELIANCE.NS    2670 non-null   float64\n",
      " 1   TCS.NS         2670 non-null   float64\n",
      " 2   HDFCBANK.NS    2670 non-null   float64\n",
      " 3   HINDUNILVR.NS  2670 non-null   float64\n",
      "dtypes: float64(4)\n",
      "memory usage: 104.3 KB\n"
     ]
    }
   ],
   "source": [
    "data.info()"
   ]
  },
  {
   "cell_type": "markdown",
   "id": "882b608d",
   "metadata": {
    "papermill": {
     "duration": 0.015605,
     "end_time": "2021-11-08T02:45:30.909077",
     "exception": false,
     "start_time": "2021-11-08T02:45:30.893472",
     "status": "completed"
    },
    "tags": []
   },
   "source": [
    "**Top 5 values from 2011-1-1**"
   ]
  },
  {
   "cell_type": "code",
   "execution_count": 5,
   "id": "55949428",
   "metadata": {
    "execution": {
     "iopub.execute_input": "2021-11-08T02:45:30.947257Z",
     "iopub.status.busy": "2021-11-08T02:45:30.946566Z",
     "iopub.status.idle": "2021-11-08T02:45:30.959487Z",
     "shell.execute_reply": "2021-11-08T02:45:30.959943Z",
     "shell.execute_reply.started": "2021-11-07T14:18:45.293744Z"
    },
    "papermill": {
     "duration": 0.035356,
     "end_time": "2021-11-08T02:45:30.960125",
     "exception": false,
     "start_time": "2021-11-08T02:45:30.924769",
     "status": "completed"
    },
    "tags": []
   },
   "outputs": [
    {
     "data": {
      "text/html": [
       "<div>\n",
       "<style scoped>\n",
       "    .dataframe tbody tr th:only-of-type {\n",
       "        vertical-align: middle;\n",
       "    }\n",
       "\n",
       "    .dataframe tbody tr th {\n",
       "        vertical-align: top;\n",
       "    }\n",
       "\n",
       "    .dataframe thead th {\n",
       "        text-align: right;\n",
       "    }\n",
       "</style>\n",
       "<table border=\"1\" class=\"dataframe\">\n",
       "  <thead>\n",
       "    <tr style=\"text-align: right;\">\n",
       "      <th></th>\n",
       "      <th>RELIANCE.NS</th>\n",
       "      <th>TCS.NS</th>\n",
       "      <th>HDFCBANK.NS</th>\n",
       "      <th>HINDUNILVR.NS</th>\n",
       "    </tr>\n",
       "    <tr>\n",
       "      <th>Date</th>\n",
       "      <th></th>\n",
       "      <th></th>\n",
       "      <th></th>\n",
       "      <th></th>\n",
       "    </tr>\n",
       "  </thead>\n",
       "  <tbody>\n",
       "    <tr>\n",
       "      <th>2011-01-03</th>\n",
       "      <td>478.549164</td>\n",
       "      <td>471.040771</td>\n",
       "      <td>222.243759</td>\n",
       "      <td>258.296082</td>\n",
       "    </tr>\n",
       "    <tr>\n",
       "      <th>2011-01-04</th>\n",
       "      <td>488.296021</td>\n",
       "      <td>465.630981</td>\n",
       "      <td>218.064758</td>\n",
       "      <td>264.688446</td>\n",
       "    </tr>\n",
       "    <tr>\n",
       "      <th>2011-01-05</th>\n",
       "      <td>487.706665</td>\n",
       "      <td>471.406769</td>\n",
       "      <td>214.592361</td>\n",
       "      <td>268.647736</td>\n",
       "    </tr>\n",
       "    <tr>\n",
       "      <th>2011-01-06</th>\n",
       "      <td>492.149506</td>\n",
       "      <td>476.592896</td>\n",
       "      <td>216.409897</td>\n",
       "      <td>264.564819</td>\n",
       "    </tr>\n",
       "    <tr>\n",
       "      <th>2011-01-07</th>\n",
       "      <td>482.991974</td>\n",
       "      <td>464.776917</td>\n",
       "      <td>210.989807</td>\n",
       "      <td>258.213593</td>\n",
       "    </tr>\n",
       "  </tbody>\n",
       "</table>\n",
       "</div>"
      ],
      "text/plain": [
       "            RELIANCE.NS      TCS.NS  HDFCBANK.NS  HINDUNILVR.NS\n",
       "Date                                                           \n",
       "2011-01-03   478.549164  471.040771   222.243759     258.296082\n",
       "2011-01-04   488.296021  465.630981   218.064758     264.688446\n",
       "2011-01-05   487.706665  471.406769   214.592361     268.647736\n",
       "2011-01-06   492.149506  476.592896   216.409897     264.564819\n",
       "2011-01-07   482.991974  464.776917   210.989807     258.213593"
      ]
     },
     "execution_count": 5,
     "metadata": {},
     "output_type": "execute_result"
    }
   ],
   "source": [
    "data.head()"
   ]
  },
  {
   "cell_type": "markdown",
   "id": "b6631d4b",
   "metadata": {
    "papermill": {
     "duration": 0.015665,
     "end_time": "2021-11-08T02:45:30.991884",
     "exception": false,
     "start_time": "2021-11-08T02:45:30.976219",
     "status": "completed"
    },
    "tags": []
   },
   "source": [
    "**Normalalizing the data**"
   ]
  },
  {
   "cell_type": "code",
   "execution_count": 6,
   "id": "29a1123a",
   "metadata": {
    "execution": {
     "iopub.execute_input": "2021-11-08T02:45:31.031137Z",
     "iopub.status.busy": "2021-11-08T02:45:31.030541Z",
     "iopub.status.idle": "2021-11-08T02:45:31.033220Z",
     "shell.execute_reply": "2021-11-08T02:45:31.033653Z",
     "shell.execute_reply.started": "2021-11-07T14:18:45.324341Z"
    },
    "papermill": {
     "duration": 0.025481,
     "end_time": "2021-11-08T02:45:31.033809",
     "exception": false,
     "start_time": "2021-11-08T02:45:31.008328",
     "status": "completed"
    },
    "tags": []
   },
   "outputs": [
    {
     "data": {
      "text/plain": [
       "RELIANCE.NS      478.549164\n",
       "TCS.NS           471.040771\n",
       "HDFCBANK.NS      222.243759\n",
       "HINDUNILVR.NS    258.296082\n",
       "Name: 2011-01-03 00:00:00, dtype: float64"
      ]
     },
     "execution_count": 6,
     "metadata": {},
     "output_type": "execute_result"
    }
   ],
   "source": [
    "data.iloc[0]"
   ]
  },
  {
   "cell_type": "code",
   "execution_count": 7,
   "id": "c3168876",
   "metadata": {
    "execution": {
     "iopub.execute_input": "2021-11-08T02:45:31.069267Z",
     "iopub.status.busy": "2021-11-08T02:45:31.068693Z",
     "iopub.status.idle": "2021-11-08T02:45:31.521451Z",
     "shell.execute_reply": "2021-11-08T02:45:31.521949Z",
     "shell.execute_reply.started": "2021-11-07T14:18:45.335183Z"
    },
    "papermill": {
     "duration": 0.472209,
     "end_time": "2021-11-08T02:45:31.522140",
     "exception": false,
     "start_time": "2021-11-08T02:45:31.049931",
     "status": "completed"
    },
    "tags": []
   },
   "outputs": [
    {
     "data": {
      "image/png": "[encoded data removed]",
      "text/plain": [
       "<Figure size 1080x432 with 1 Axes>"
      ]
     },
     "metadata": {
      "needs_background": "light"
     },
     "output_type": "display_data"
    }
   ],
   "source": [
    "nd=(data / data.iloc[0] * 100)\n",
    "nd.plot(figsize = (15, 6));\n",
    "plt.show()"
   ]
  },
  {
   "cell_type": "markdown",
   "id": "4ece5b48",
   "metadata": {
    "papermill": {
     "duration": 0.018207,
     "end_time": "2021-11-08T02:45:31.558978",
     "exception": false,
     "start_time": "2021-11-08T02:45:31.540771",
     "status": "completed"
    },
    "tags": []
   },
   "source": [
    "**Finding out the daily returns**"
   ]
  },
  {
   "cell_type": "code",
   "execution_count": 8,
   "id": "82a7fb0e",
   "metadata": {
    "execution": {
     "iopub.execute_input": "2021-11-08T02:45:31.599425Z",
     "iopub.status.busy": "2021-11-08T02:45:31.598778Z",
     "iopub.status.idle": "2021-11-08T02:45:31.609992Z",
     "shell.execute_reply": "2021-11-08T02:45:31.610478Z",
     "shell.execute_reply.started": "2021-11-07T14:18:45.859595Z"
    },
    "papermill": {
     "duration": 0.033159,
     "end_time": "2021-11-08T02:45:31.610657",
     "exception": false,
     "start_time": "2021-11-08T02:45:31.577498",
     "status": "completed"
    },
    "tags": []
   },
   "outputs": [
    {
     "data": {
      "text/html": [
       "<div>\n",
       "<style scoped>\n",
       "    .dataframe tbody tr th:only-of-type {\n",
       "        vertical-align: middle;\n",
       "    }\n",
       "\n",
       "    .dataframe tbody tr th {\n",
       "        vertical-align: top;\n",
       "    }\n",
       "\n",
       "    .dataframe thead th {\n",
       "        text-align: right;\n",
       "    }\n",
       "</style>\n",
       "<table border=\"1\" class=\"dataframe\">\n",
       "  <thead>\n",
       "    <tr style=\"text-align: right;\">\n",
       "      <th></th>\n",
       "      <th>RELIANCE.NS</th>\n",
       "      <th>TCS.NS</th>\n",
       "      <th>HDFCBANK.NS</th>\n",
       "      <th>HINDUNILVR.NS</th>\n",
       "    </tr>\n",
       "    <tr>\n",
       "      <th>Date</th>\n",
       "      <th></th>\n",
       "      <th></th>\n",
       "      <th></th>\n",
       "      <th></th>\n",
       "    </tr>\n",
       "  </thead>\n",
       "  <tbody>\n",
       "    <tr>\n",
       "      <th>2011-01-03</th>\n",
       "      <td>NaN</td>\n",
       "      <td>NaN</td>\n",
       "      <td>NaN</td>\n",
       "      <td>NaN</td>\n",
       "    </tr>\n",
       "    <tr>\n",
       "      <th>2011-01-04</th>\n",
       "      <td>0.020368</td>\n",
       "      <td>-0.011485</td>\n",
       "      <td>-0.018804</td>\n",
       "      <td>0.024748</td>\n",
       "    </tr>\n",
       "    <tr>\n",
       "      <th>2011-01-05</th>\n",
       "      <td>-0.001207</td>\n",
       "      <td>0.012404</td>\n",
       "      <td>-0.015924</td>\n",
       "      <td>0.014958</td>\n",
       "    </tr>\n",
       "    <tr>\n",
       "      <th>2011-01-06</th>\n",
       "      <td>0.009110</td>\n",
       "      <td>0.011001</td>\n",
       "      <td>0.008470</td>\n",
       "      <td>-0.015198</td>\n",
       "    </tr>\n",
       "    <tr>\n",
       "      <th>2011-01-07</th>\n",
       "      <td>-0.018607</td>\n",
       "      <td>-0.024793</td>\n",
       "      <td>-0.025045</td>\n",
       "      <td>-0.024006</td>\n",
       "    </tr>\n",
       "  </tbody>\n",
       "</table>\n",
       "</div>"
      ],
      "text/plain": [
       "            RELIANCE.NS    TCS.NS  HDFCBANK.NS  HINDUNILVR.NS\n",
       "Date                                                         \n",
       "2011-01-03          NaN       NaN          NaN            NaN\n",
       "2011-01-04     0.020368 -0.011485    -0.018804       0.024748\n",
       "2011-01-05    -0.001207  0.012404    -0.015924       0.014958\n",
       "2011-01-06     0.009110  0.011001     0.008470      -0.015198\n",
       "2011-01-07    -0.018607 -0.024793    -0.025045      -0.024006"
      ]
     },
     "execution_count": 8,
     "metadata": {},
     "output_type": "execute_result"
    }
   ],
   "source": [
    "daily_returns = (data / data.shift(1)) - 1\n",
    "daily_returns.head()"
   ]
  },
  {
   "cell_type": "markdown",
   "id": "545b36e3",
   "metadata": {
    "papermill": {
     "duration": 0.01925,
     "end_time": "2021-11-08T02:45:31.649491",
     "exception": false,
     "start_time": "2021-11-08T02:45:31.630241",
     "status": "completed"
    },
    "tags": []
   },
   "source": [
    "**Assigning equal weights of 25%to each stock**"
   ]
  },
  {
   "cell_type": "code",
   "execution_count": 9,
   "id": "c4210ebe",
   "metadata": {
    "execution": {
     "iopub.execute_input": "2021-11-08T02:45:31.690892Z",
     "iopub.status.busy": "2021-11-08T02:45:31.690334Z",
     "iopub.status.idle": "2021-11-08T02:45:31.693842Z",
     "shell.execute_reply": "2021-11-08T02:45:31.694321Z",
     "shell.execute_reply.started": "2021-11-07T14:18:45.879092Z"
    },
    "papermill": {
     "duration": 0.025753,
     "end_time": "2021-11-08T02:45:31.694496",
     "exception": false,
     "start_time": "2021-11-08T02:45:31.668743",
     "status": "completed"
    },
    "tags": []
   },
   "outputs": [],
   "source": [
    "weights = np.array([0.25, 0.25, 0.25, 0.25])"
   ]
  },
  {
   "cell_type": "markdown",
   "id": "a94e6d9d",
   "metadata": {
    "papermill": {
     "duration": 0.018899,
     "end_time": "2021-11-08T02:45:31.733496",
     "exception": false,
     "start_time": "2021-11-08T02:45:31.714597",
     "status": "completed"
    },
    "tags": []
   },
   "source": [
    "**Finding out the annual returns for a year**"
   ]
  },
  {
   "cell_type": "code",
   "execution_count": 10,
   "id": "a2013215",
   "metadata": {
    "execution": {
     "iopub.execute_input": "2021-11-08T02:45:31.774884Z",
     "iopub.status.busy": "2021-11-08T02:45:31.774220Z",
     "iopub.status.idle": "2021-11-08T02:45:31.780781Z",
     "shell.execute_reply": "2021-11-08T02:45:31.781248Z",
     "shell.execute_reply.started": "2021-11-07T14:18:45.886878Z"
    },
    "papermill": {
     "duration": 0.028758,
     "end_time": "2021-11-08T02:45:31.781416",
     "exception": false,
     "start_time": "2021-11-08T02:45:31.752658",
     "status": "completed"
    },
    "tags": []
   },
   "outputs": [
    {
     "data": {
      "text/plain": [
       "RELIANCE.NS      0.195778\n",
       "TCS.NS           0.220946\n",
       "HDFCBANK.NS      0.212614\n",
       "HINDUNILVR.NS    0.238337\n",
       "dtype: float64"
      ]
     },
     "execution_count": 10,
     "metadata": {},
     "output_type": "execute_result"
    }
   ],
   "source": [
    "annual_returns = daily_returns.mean() * 250\n",
    "annual_returns"
   ]
  },
  {
   "cell_type": "markdown",
   "id": "dd2e7595",
   "metadata": {
    "papermill": {
     "duration": 0.018784,
     "end_time": "2021-11-08T02:45:31.819433",
     "exception": false,
     "start_time": "2021-11-08T02:45:31.800649",
     "status": "completed"
    },
    "tags": []
   },
   "source": [
    "**Percentage return of the portfolio of the 4 stocks**"
   ]
  },
  {
   "cell_type": "code",
   "execution_count": 11,
   "id": "d74830ad",
   "metadata": {
    "execution": {
     "iopub.execute_input": "2021-11-08T02:45:31.861936Z",
     "iopub.status.busy": "2021-11-08T02:45:31.861347Z",
     "iopub.status.idle": "2021-11-08T02:45:31.866446Z",
     "shell.execute_reply": "2021-11-08T02:45:31.865901Z",
     "shell.execute_reply.started": "2021-11-07T14:18:45.903625Z"
    },
    "papermill": {
     "duration": 0.028046,
     "end_time": "2021-11-08T02:45:31.866602",
     "exception": false,
     "start_time": "2021-11-08T02:45:31.838556",
     "status": "completed"
    },
    "tags": []
   },
   "outputs": [
    {
     "data": {
      "text/plain": [
       "21.691867615532455"
      ]
     },
     "execution_count": 11,
     "metadata": {},
     "output_type": "execute_result"
    }
   ],
   "source": [
    "(np.dot(annual_returns, weights))*100"
   ]
  },
  {
   "cell_type": "markdown",
   "id": "d3a3555f",
   "metadata": {
    "papermill": {
     "duration": 0.01901,
     "end_time": "2021-11-08T02:45:31.904719",
     "exception": false,
     "start_time": "2021-11-08T02:45:31.885709",
     "status": "completed"
    },
    "tags": []
   },
   "source": [
    "# Thank You"
   ]
  }
 ],
 "metadata": {
  "kernelspec": {
   "display_name": "Python 3",
   "language": "python",
   "name": "python3"
  },
  "language_info": {
   "codemirror_mode": {
    "name": "ipython",
    "version": 3
   },
   "file_extension": ".py",
   "mimetype": "text/x-python",
   "name": "python",
   "nbconvert_exporter": "python",
   "pygments_lexer": "ipython3",
   "version": "3.7.10"
  },
  "papermill": {
   "default_parameters": {},
   "duration": 25.916065,
   "end_time": "2021-11-08T02:45:32.633705",
   "environment_variables": {},
   "exception": null,
   "input_path": "__notebook__.ipynb",
   "output_path": "__notebook__.ipynb",
   "parameters": {},
   "start_time": "2021-11-08T02:45:06.717640",
   "version": "2.3.3"
  }
 },
 "nbformat": 4,
 "nbformat_minor": 5
}
